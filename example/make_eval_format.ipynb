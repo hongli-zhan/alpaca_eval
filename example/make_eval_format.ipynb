{
 "cells": [
  {
   "cell_type": "code",
   "execution_count": 1,
   "metadata": {},
   "outputs": [],
   "source": [
    "file_name = \"./dolly/generated_responses_no_principles-mixtral-8x7b.jsonl\""
   ]
  },
  {
   "cell_type": "code",
   "execution_count": 2,
   "metadata": {},
   "outputs": [
    {
     "data": {
      "text/plain": [
       "{'instruction': 'Why mobile is bad for human',\n",
       " 'context': '',\n",
       " 'response': 'We are always engaged one phone which is not good.',\n",
       " 'category': 'brainstorming',\n",
       " 'principle_raw': \"1. Avoid generalizations: When discussing the impact of mobile devices on humans, it's crucial to acknowledge the diversity of experiences and usage patterns.\\n\\n2. Highlight potential negative effects: Discuss the potential negative effects of mobile use, such as increased sedentary behavior, decreased face-to-face interaction, and potential sleep disruptions.\\n\\n3. Emphasize balanced use: Encourage responsible and balanced use of mobile devices, integrating healthy habits and setting boundaries to mitigate potential adverse effects.\\n\\n4. Mention mental health considerations: Recognize the potential impact of mobile use on mental health, including increased stress, anxiety, and addiction.\\n\\n5. Encourage digital literacy: Stress the importance of understanding how to use mobile devices in a responsible and safe manner, including recognizing and addressing potential risks such as cyberbullying, online harassment, and privacy concerns.\",\n",
       " 'principles_critique_iter_1': 'The principles provided are relevant to the question, but they could be more specific to offer better guidance. While the principles mention avoiding generalizations, highlighting potential negative effects, and emphasizing balanced use, they could delve deeper into these areas. For instance, specific negative effects like addiction, decreased attention span, and exposure to harmful content could be highlighted. Mental health considerations are mentioned, but more details about how mobile use can affect mental health would be beneficial. The principle about digital literacy is crucial, but it could also include suggestions on how to promote it among users. Overall, these principles offer a good starting point, but they could be more detailed and actionable to effectively guide responses to similar questions. [RESULT] 4',\n",
       " 'principle_final': \"1. Avoid generalizations: When discussing the impact of mobile devices on humans, it's crucial to acknowledge the diversity of experiences and usage patterns.\\n\\n2. Highlight potential negative effects: Discuss the potential negative effects of mobile use, such as increased sedentary behavior, decreased face-to-face interaction, and potential sleep disruptions.\\n\\n3. Emphasize balanced use: Encourage responsible and balanced use of mobile devices, integrating healthy habits and setting boundaries to mitigate potential adverse effects.\\n\\n4. Mention mental health considerations: Recognize the potential impact of mobile use on mental health, including increased stress, anxiety, and addiction.\\n\\n5. Encourage digital literacy: Stress the importance of understanding how to use mobile devices in a responsible and safe manner, including recognizing and addressing potential risks such as cyberbullying, online harassment, and privacy concerns.\",\n",
       " 'principles_critique_final': '\\nThe principles provided are relevant to the question, but they could be more specific to offer better guidance. While the principles mention avoiding generalizations, highlighting potential negative effects, and emphasizing balanced use, they could delve deeper into these areas. For instance, specific negative effects like addiction, decreased attention span, and exposure to harmful content could be highlighted. Mental health considerations are mentioned, but more details about how mobile use can affect mental health would be beneficial. The principle about digital literacy is crucial, but it could also include suggestions on how to promote it among users. Overall, these principles offer a good starting point, but they could be more detailed and actionable to effectively guide responses to similar questions. [RESULT] 4',\n",
       " 'init_response': 'Mobile devices can have negative effects on humans if not used responsibly. Potential issues include increased sedentary behavior, decreased face-to-face interaction, and sleep disruptions. Overuse can also impact mental health, causing stress, anxiety, and addiction. Balanced use is essential, integrating healthy habits and setting boundaries. Developing digital literacy is crucial for safe mobile usage, including recognizing and addressing potential risks such as cyberbullying, online harassment, and privacy concerns. By fostering responsible habits, we can mitigate negative impacts and enjoy the benefits of mobile technology.',\n",
       " 'response_critique_iter_1': 'The response effectively highlights potential negative effects of mobile use, such as increased sedentary behavior, decreased face-to-face interaction, and potential sleep disruptions. It also acknowledges the impact on mental health and the importance of balanced use. However, the response could benefit from more explicitly avoiding generalizations and emphasizing the diversity of experiences and usage patterns. Additionally, the encouragement of digital literacy could be more prominent, with specific examples of how to use mobile devices in a responsible and safe manner. The response is concise and mostly aligns with the principles, but minor improvements could enhance its adherence. [RESULT] 4',\n",
       " 'response_final': 'Mobile devices can have negative effects on humans if not used responsibly. Potential issues include increased sedentary behavior, decreased face-to-face interaction, and sleep disruptions. Overuse can also impact mental health, causing stress, anxiety, and addiction. Balanced use is essential, integrating healthy habits and setting boundaries. Developing digital literacy is crucial for safe mobile usage, including recognizing and addressing potential risks such as cyberbullying, online harassment, and privacy concerns. By fostering responsible habits, we can mitigate negative impacts and enjoy the benefits of mobile technology.',\n",
       " 'response_critique_final': '\\nThe response effectively highlights potential negative effects of mobile use, such as increased sedentary behavior, decreased face-to-face interaction, and potential sleep disruptions. It also acknowledges the impact on mental health and the importance of balanced use. However, the response could benefit from more explicitly avoiding generalizations and emphasizing the diversity of experiences and usage patterns. Additionally, the encouragement of digital literacy could be more prominent, with specific examples of how to use mobile devices in a responsible and safe manner. The response is concise and mostly aligns with the principles, but minor improvements could enhance its adherence. [RESULT] 4',\n",
       " 'baseline_response_w/o_principles': '1. Mobile devices can be detrimental to face-to-face communication and social skills.\\n2. Overuse can lead to physical health issues, such as eye strain, poor posture, and repetitive strain injuries.\\n3. Excessive screen time can negatively impact mental health, causing anxiety, stress, and sleep disturbances.\\n4. Mobile addiction can result in reduced productivity and focus, as well as difficulty in prioritizing tasks.\\n5. Constantly being connected can create unrealistic expectations of immediate responses and increase stress levels.\\n6. Inappropriate content and cyberbullying are potential risks, especially for children and teens.\\n7. Dependence on mobile devices for navigation may weaken spatial awareness and orientation skills.\\n8. Over-reliance on mobile devices for information can hinder critical thinking and problem-solving abilities.'}"
      ]
     },
     "execution_count": 2,
     "metadata": {},
     "output_type": "execute_result"
    }
   ],
   "source": [
    "import json\n",
    "import pandas as pd\n",
    "\n",
    "def read_jsonl(jsonl_path):\n",
    "    \"\"\" returns a list of dictionaries \"\"\"\n",
    "    with open(jsonl_path) as f:\n",
    "        lst = f.readlines()\n",
    "        lst = [\n",
    "            json.loads(line.strip()) for line in lst if line.strip()\n",
    "        ]\n",
    "    return lst\n",
    "\n",
    "file = read_jsonl(file_name)\n",
    "file[0]"
   ]
  },
  {
   "cell_type": "code",
   "execution_count": 3,
   "metadata": {},
   "outputs": [],
   "source": [
    "output_name = \"./dolly/oracle_responses.json\"\n",
    "\n",
    "oracle_responses = [\n",
    "    {\n",
    "        \"instruction\": input[\"instruction\"],\n",
    "        \"output\": input[\"response\"],\n",
    "        \"generator\": \"oracle\",\n",
    "        \"dataset\": \"dolly\",\n",
    "    } for input in file\n",
    "]\n",
    "\n",
    "with open(output_name, \"w\") as f:\n",
    "    f.write(json.dumps(oracle_responses, indent=4))"
   ]
  },
  {
   "cell_type": "code",
   "execution_count": 4,
   "metadata": {},
   "outputs": [],
   "source": [
    "output_name = \"./dolly/principle_responses.json\"\n",
    "\n",
    "principle_responses = [\n",
    "    {\n",
    "        \"instruction\": input[\"instruction\"],\n",
    "        \"output\": input[\"response_final\"],\n",
    "        \"generator\": \"mixtral-8x7b-principle_response\",\n",
    "        \"dataset\": \"dolly\",\n",
    "    } for input in file\n",
    "]\n",
    "\n",
    "with open(output_name, \"w\") as f:\n",
    "    f.write(json.dumps(principle_responses, indent=4))"
   ]
  },
  {
   "cell_type": "code",
   "execution_count": 5,
   "metadata": {},
   "outputs": [],
   "source": [
    "output_name = \"./dolly/baseline_responses.json\"\n",
    "\n",
    "baseline_responses = [\n",
    "    {\n",
    "        \"instruction\": input[\"instruction\"],\n",
    "        \"output\": input[\"baseline_response_w/o_principles\"],\n",
    "        \"generator\": \"mixtral-8x7b-baseline_response_w/o_principles\",\n",
    "        \"dataset\": \"dolly\",\n",
    "    } for input in file\n",
    "]\n",
    "\n",
    "with open(output_name, \"w\") as f:\n",
    "    f.write(json.dumps(baseline_responses, indent=4))"
   ]
  }
 ],
 "metadata": {
  "kernelspec": {
   "display_name": "base",
   "language": "python",
   "name": "python3"
  },
  "language_info": {
   "codemirror_mode": {
    "name": "ipython",
    "version": 3
   },
   "file_extension": ".py",
   "mimetype": "text/x-python",
   "name": "python",
   "nbconvert_exporter": "python",
   "pygments_lexer": "ipython3",
   "version": "3.11.7"
  }
 },
 "nbformat": 4,
 "nbformat_minor": 2
}
